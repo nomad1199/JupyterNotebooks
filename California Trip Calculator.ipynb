{
 "cells": [
  {
   "cell_type": "markdown",
   "metadata": {},
   "source": [
    "## Salem To Emeryville"
   ]
  },
  {
   "cell_type": "code",
   "execution_count": 4,
   "metadata": {},
   "outputs": [
    {
     "name": "stdout",
     "output_type": "stream",
     "text": [
      "Trip will cost 210 dollars in cash money\n"
     ]
    }
   ],
   "source": [
    "one_way_d = 584 # miles\n",
    "gas_price_Cali = 3.62 # $ per gal.\n",
    "gas_price_Oregon = 3.08 # $ per gal.\n",
    "# Apply Oregon biased weight:\n",
    "gas_avg = 0.3*gas_price_Cali + 0.7*gas_price_Oregon\n",
    "mpg_4Runner = 18 # miles per gallon\n",
    "\n",
    "def round_trip_cost(one_way_d, gas_avg, mpg):\n",
    "    return 2*one_way_d / mpg * gas_avg\n",
    "\n",
    "result = round_trip_cost(one_way_d, gas_avg, mpg_4Runner)\n",
    "print(f'Trip will cost {round(result)} dollars in cash money')"
   ]
  },
  {
   "cell_type": "code",
   "execution_count": null,
   "metadata": {},
   "outputs": [],
   "source": []
  }
 ],
 "metadata": {
  "kernelspec": {
   "display_name": "Python 3",
   "language": "python",
   "name": "python3"
  },
  "language_info": {
   "codemirror_mode": {
    "name": "ipython",
    "version": 3
   },
   "file_extension": ".py",
   "mimetype": "text/x-python",
   "name": "python",
   "nbconvert_exporter": "python",
   "pygments_lexer": "ipython3",
   "version": "3.7.3"
  }
 },
 "nbformat": 4,
 "nbformat_minor": 2
}
