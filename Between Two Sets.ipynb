{
 "cells": [
  {
   "cell_type": "markdown",
   "metadata": {},
   "source": [
    "# Between Two Sets\n"
   ]
  },
  {
   "cell_type": "markdown",
   "metadata": {},
   "source": [
    "Google prime numbers less than 100 and copy/paste here.\n",
    "Then, parse them into a list"
   ]
  },
  {
   "cell_type": "code",
   "execution_count": 1,
   "metadata": {},
   "outputs": [
    {
     "name": "stdout",
     "output_type": "stream",
     "text": [
      "[2, 3, 5, 7, 11, 13, 17, 19, 23, 29, 31, 37, 41, 43, 47, 53, 59, 61, 67, 71, 73, 79, 83, 89, 97]\n"
     ]
    }
   ],
   "source": [
    "p_str = \"2 3 5 7 11 13 17 19 23 29 31 37 41 43 47 53 59 61 67 71 73 79 83 89 97\"\n",
    "p_str = p_str.split(' ')\n",
    "p = []\n",
    "for char in p_str:\n",
    "    p.append(int(char))\n",
    "print(p)"
   ]
  },
  {
   "cell_type": "markdown",
   "metadata": {},
   "source": [
    "Define function to multiply all elements in a list, cumulatively"
   ]
  },
  {
   "cell_type": "code",
   "execution_count": 2,
   "metadata": {},
   "outputs": [],
   "source": [
    "def multiply_list(x):\n",
    "    res = 1\n",
    "    for element in x:\n",
    "        res = res*element\n",
    "    return res"
   ]
  },
  {
   "cell_type": "markdown",
   "metadata": {},
   "source": [
    "Define a function to find all prime factors of a given input value"
   ]
  },
  {
   "cell_type": "code",
   "execution_count": 3,
   "metadata": {},
   "outputs": [
    {
     "name": "stdout",
     "output_type": "stream",
     "text": [
      "[2, 2, 2, 3, 5]\n",
      "120\n"
     ]
    }
   ],
   "source": [
    "def factors(x):\n",
    "    res_factors = []\n",
    "    while x > 1:\n",
    "        for prime in p:\n",
    "            if x % prime == 0:\n",
    "                res_factors.append(prime)\n",
    "                x = x/prime\n",
    "                break\n",
    "    return res_factors\n",
    "\n",
    "test = factors(120)\n",
    "print(test)\n",
    "print(multiply_list(test))"
   ]
  },
  {
   "cell_type": "markdown",
   "metadata": {},
   "source": [
    "Combine factors from two lists.\n",
    "Operation equivalent to taking difference of the union of two lists and the intersection of two lists."
   ]
  },
  {
   "cell_type": "code",
   "execution_count": 4,
   "metadata": {},
   "outputs": [
    {
     "name": "stdout",
     "output_type": "stream",
     "text": [
      "[2, 2, 2, 3, 5]\n"
     ]
    }
   ],
   "source": [
    "def combined_factors(x, y):\n",
    "    for element in x:\n",
    "        if element in y:\n",
    "            del y[y.index(element)]\n",
    "    y.extend(x)\n",
    "    return y\n",
    "\n",
    "x = [2, 2, 2, 3]\n",
    "y = [2, 2, 5]\n",
    "z = combined_factors(x,y)\n",
    "z.sort()\n",
    "print(z)"
   ]
  },
  {
   "cell_type": "markdown",
   "metadata": {},
   "source": [
    "Define main function"
   ]
  },
  {
   "cell_type": "code",
   "execution_count": 5,
   "metadata": {},
   "outputs": [],
   "source": [
    "def getTotalX(a, b):\n",
    "    # sort a and b in ascending order\n",
    "    a.sort()\n",
    "    b.sort()\n",
    "    \n",
    "    # find all the factors associated with list \"a\"\n",
    "    a_factors = factors(a[0])\n",
    "    if len(a) > 1:\n",
    "        for element in a[1:]:\n",
    "            element_factors = factors(element)\n",
    "            a_factors = combined_factors(a_factors, element_factors)    \n",
    "    # Account for special condition where a component is 1 (not a prime)\n",
    "    if len(a_factors) == 0:\n",
    "        a_factors = [1]\n",
    "    print('Factors of list \"a\" are: {}'.format(a_factors))\n",
    "    \n",
    "    # Find least common denominator of smallest \"b\" list value\n",
    "    lcd = multiply_list(a_factors)\n",
    "#    print(lcd)\n",
    "    \n",
    "    # Account for condition where problem has no solution\n",
    "    if b[0] % lcd != 0:\n",
    "        print('solution is empty array')\n",
    "        return 0\n",
    "    \n",
    "    # Initialize solutions array\n",
    "    solutions = [lcd]\n",
    "    \n",
    "    x = b[0]/lcd\n",
    "    x_factors = factors(x)\n",
    "    while x_factors:\n",
    "        solutions = list(set(solutions))\n",
    "        solutions.sort()\n",
    "        for num in tuple(solutions):\n",
    "            # Break for loop if x_factors is empty\n",
    "            if not x_factors:\n",
    "                break\n",
    "            test = num*x_factors[-1]\n",
    "            append_condition = True\n",
    "            for num2 in b:\n",
    "                if num2 % test != 0:\n",
    "                    append_condition = False\n",
    "                    break\n",
    "            if append_condition:\n",
    "                solutions.append(test)\n",
    "        x_factors.pop()\n",
    "    solutions = list(set(solutions))\n",
    "    solutions.sort()\n",
    "    print('Solution integers are: {}'.format(solutions))\n",
    "    return len(solutions)"
   ]
  },
  {
   "cell_type": "markdown",
   "metadata": {},
   "source": [
    "Test several different cases"
   ]
  },
  {
   "cell_type": "code",
   "execution_count": 6,
   "metadata": {},
   "outputs": [
    {
     "name": "stdout",
     "output_type": "stream",
     "text": [
      "Factors of list \"a\" are: [2, 2, 3]\n",
      "Solution integers are: [12, 24]\n"
     ]
    },
    {
     "data": {
      "text/plain": [
       "2"
      ]
     },
     "execution_count": 6,
     "metadata": {},
     "output_type": "execute_result"
    }
   ],
   "source": [
    "a = [3, 4]\n",
    "b = [24,48]\n",
    "getTotalX(a, b)"
   ]
  },
  {
   "cell_type": "code",
   "execution_count": 7,
   "metadata": {},
   "outputs": [
    {
     "name": "stdout",
     "output_type": "stream",
     "text": [
      "Factors of list \"a\" are: [2]\n",
      "Solution integers are: [2]\n"
     ]
    },
    {
     "data": {
      "text/plain": [
       "1"
      ]
     },
     "execution_count": 7,
     "metadata": {},
     "output_type": "execute_result"
    }
   ],
   "source": [
    "a = [2]\n",
    "b = [20, 30, 12]\n",
    "getTotalX(a, b)"
   ]
  },
  {
   "cell_type": "code",
   "execution_count": 8,
   "metadata": {},
   "outputs": [
    {
     "name": "stdout",
     "output_type": "stream",
     "text": [
      "Factors of list \"a\" are: [1]\n",
      "Solution integers are: [1, 2, 3, 4, 6, 8, 12, 24]\n"
     ]
    },
    {
     "data": {
      "text/plain": [
       "8"
      ]
     },
     "execution_count": 8,
     "metadata": {},
     "output_type": "execute_result"
    }
   ],
   "source": [
    "a = [1]\n",
    "b = [72, 48]\n",
    "getTotalX(a, b)"
   ]
  },
  {
   "cell_type": "code",
   "execution_count": 9,
   "metadata": {},
   "outputs": [
    {
     "name": "stdout",
     "output_type": "stream",
     "text": [
      "Factors of list \"a\" are: [2, 2]\n",
      "Solution integers are: [4, 8, 16]\n"
     ]
    },
    {
     "data": {
      "text/plain": [
       "3"
      ]
     },
     "execution_count": 9,
     "metadata": {},
     "output_type": "execute_result"
    }
   ],
   "source": [
    "a = [2, 4]\n",
    "b = [16, 32, 96]\n",
    "getTotalX(a, b)"
   ]
  }
 ],
 "metadata": {
  "kernelspec": {
   "display_name": "Python 3",
   "language": "python",
   "name": "python3"
  },
  "language_info": {
   "codemirror_mode": {
    "name": "ipython",
    "version": 3
   },
   "file_extension": ".py",
   "mimetype": "text/x-python",
   "name": "python",
   "nbconvert_exporter": "python",
   "pygments_lexer": "ipython3",
   "version": "3.7.2"
  }
 },
 "nbformat": 4,
 "nbformat_minor": 2
}
